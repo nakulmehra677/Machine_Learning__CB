{
 "cells": [
  {
   "cell_type": "markdown",
   "metadata": {},
   "source": [
    "## Gradient Descent Algorithm"
   ]
  },
  {
   "cell_type": "code",
   "execution_count": 5,
   "metadata": {},
   "outputs": [
    {
     "data": {
      "image/png": "[encoded data removed]",
      "text/plain": [
       "<matplotlib.figure.Figure at 0x21d7384e860>"
      ]
     },
     "metadata": {},
     "output_type": "display_data"
    },
    {
     "name": "stdout",
     "output_type": "stream",
     "text": [
      "664886.412433052\n"
     ]
    }
   ],
   "source": [
    "import numpy as np\n",
    "import pandas as pd\n",
    "import matplotlib.pyplot as plt\n",
    "\n",
    "\n",
    "def error(x1, x2, x3, x4, x5, y, theta):\n",
    "    \n",
    "    total_error = 0\n",
    "    \n",
    "    for i in range (len(x1)):\n",
    "        total_error += (theta[5] * x5[i] + theta[4] * x4[i] + theta[3] * x3[i] + theta[2] * x2[i] + theta[1] * x1[i] + theta[0] - y[i])**2\n",
    "\n",
    "    return total_error\n",
    "        \n",
    "        \n",
    "def cal_gradient(x1, x2, x3, x4, x5, y, theta):\n",
    "    \n",
    "    grad = np.zeros((6,))\n",
    "\n",
    "    for i in range(len(y)):\n",
    "        \n",
    "        grad[0] += (theta[5] * x5[i] + theta[4] * x4[i] + theta[3] * x3[i] + theta[2] * x2[i] + theta[1] * x1[i] + theta[0] - y[i])\n",
    "        grad[1] += (theta[5] * x5[i] + theta[4] * x4[i] + theta[3] * x3[i] + theta[2] * x2[i] + theta[1] * x1[i] + theta[0] - y[i]) * x1[i]\n",
    "        grad[2] += (theta[5] * x5[i] + theta[4] * x4[i] + theta[3] * x3[i] + theta[2] * x2[i] + theta[1] * x1[i] + theta[0] - y[i]) * x2[i]\n",
    "        grad[3] += (theta[5] * x5[i] + theta[4] * x4[i] + theta[3] * x3[i] + theta[2] * x2[i] + theta[1] * x1[i] + theta[0] - y[i]) * x3[i]\n",
    "        grad[4] += (theta[5] * x5[i] + theta[4] * x4[i] + theta[3] * x3[i] + theta[2] * x2[i] + theta[1] * x1[i] + theta[0] - y[i]) * x4[i]\n",
    "        grad[5] += (theta[5] * x5[i] + theta[4] * x4[i] + theta[3] * x3[i] + theta[2] * x2[i] + theta[1] * x1[i] + theta[0] - y[i]) * x5[i]\n",
    "    \n",
    "    return grad\n",
    "\n",
    "\n",
    "def gradientDescent(x1, x2, x3, x4, x5, y):\n",
    "    \n",
    "    iterations = 50\n",
    "    error_list = []\n",
    "    theta_list = []\n",
    "    theta = np.array([0, 0, 0, 0, 0, 0])\n",
    "    \n",
    "    while iterations > 0:\n",
    "        \n",
    "        total_error = error(x1, x2, x3, x4, x5, y, theta)\n",
    "        error_list.append(total_error)\n",
    "        grad = cal_gradient(x1, x2, x3, x4, x5, y, theta)\n",
    "        \n",
    "        theta = theta - 0.0001 * grad\n",
    "        theta_list.append(theta)\n",
    "        \n",
    "        iterations -=1\n",
    "    \n",
    "    return theta, error_list, theta_list\n",
    "  \n",
    "\n",
    "f = pd.read_csv('Train.csv')\n",
    "\n",
    "x1 = f[\"feature_1\"]\n",
    "x2 = f[\"feature_2\"]\n",
    "x3 = f[\"feature_3\"]\n",
    "x4 = f[\"feature_4\"]\n",
    "x5 = f[\"feature_5\"]\n",
    "\n",
    "y = f[\"target\"]\n",
    "\n",
    "x1 = x1.values.reshape((-1,))\n",
    "x2 = x2.values.reshape((-1,))\n",
    "x3 = x3.values.reshape((-1,))\n",
    "x4 = x4.values.reshape((-1,))\n",
    "x5 = x5.values.reshape((-1,))\n",
    "\n",
    "y = y.values.reshape((-1,))\n",
    "\n",
    "theta, error_list, theta_list = gradientDescent(x1, x2, x3, x4, x5, y)\n",
    "\n",
    "theta_list = np.array(theta_list)\n",
    "\n",
    "plt.plot(error_list)\n",
    "plt.show()\n",
    "\n",
    "print(error_list[-1])\n"
   ]
  },
  {
   "cell_type": "markdown",
   "metadata": {},
   "source": [
    "## Stochastic Gradient Descent"
   ]
  },
  {
   "cell_type": "code",
   "execution_count": 6,
   "metadata": {},
   "outputs": [
    {
     "data": {
      "image/png": "[encoded data removed]",
      "text/plain": [
       "<matplotlib.figure.Figure at 0x21d7384e908>"
      ]
     },
     "metadata": {},
     "output_type": "display_data"
    },
    {
     "name": "stdout",
     "output_type": "stream",
     "text": [
      "12267465.38386001\n"
     ]
    }
   ],
   "source": [
    "import numpy as np\n",
    "import pandas as pd\n",
    "import matplotlib.pyplot as plt\n",
    "\n",
    "\n",
    "def error(x1, x2, x3, x4, x5, y, theta):\n",
    "    \n",
    "    total_error = 0\n",
    "    \n",
    "    for i in range (len(x1)):\n",
    "        total_error += (theta[5] * x5[i] + theta[4] * x4[i] + theta[3] * x3[i] + theta[2] * x2[i] + theta[1] * x1[i] + theta[0] - y[i])**2\n",
    "\n",
    "    return total_error\n",
    "        \n",
    "        \n",
    "def cal_gradient(x1, x2, x3, x4, x5, y, theta):\n",
    "    \n",
    "    grad = np.zeros((6,))\n",
    "    indices = np.arange(y.shape[0])\n",
    "    np.random.shuffle(indices)\n",
    "    indices = indices[:50]\n",
    "\n",
    "    for i in indices:\n",
    "        \n",
    "        grad[0] += (theta[5] * x5[i] + theta[4] * x4[i] + theta[3] * x3[i] + theta[2] * x2[i] + theta[1] * x1[i] + theta[0] - y[i])\n",
    "        grad[1] += (theta[5] * x5[i] + theta[4] * x4[i] + theta[3] * x3[i] + theta[2] * x2[i] + theta[1] * x1[i] + theta[0] - y[i]) * x1[i]\n",
    "        grad[2] += (theta[5] * x5[i] + theta[4] * x4[i] + theta[3] * x3[i] + theta[2] * x2[i] + theta[1] * x1[i] + theta[0] - y[i]) * x2[i]\n",
    "        grad[3] += (theta[5] * x5[i] + theta[4] * x4[i] + theta[3] * x3[i] + theta[2] * x2[i] + theta[1] * x1[i] + theta[0] - y[i]) * x3[i]\n",
    "        grad[4] += (theta[5] * x5[i] + theta[4] * x4[i] + theta[3] * x3[i] + theta[2] * x2[i] + theta[1] * x1[i] + theta[0] - y[i]) * x4[i]\n",
    "        grad[5] += (theta[5] * x5[i] + theta[4] * x4[i] + theta[3] * x3[i] + theta[2] * x2[i] + theta[1] * x1[i] + theta[0] - y[i]) * x5[i]\n",
    "    \n",
    "    return grad\n",
    "\n",
    "\n",
    "def gradientDescent(x1, x2, x3, x4, x5, y):\n",
    "    \n",
    "    iterations = 50\n",
    "    error_list = []\n",
    "    theta_list = []\n",
    "    theta = np.array([0, 0, 0, 0, 0, 0])\n",
    "    \n",
    "    while iterations > 0:\n",
    "        \n",
    "        total_error = error(x1, x2, x3, x4, x5, y, theta)\n",
    "        error_list.append(total_error)\n",
    "        grad = cal_gradient(x1, x2, x3, x4, x5, y, theta)\n",
    "        \n",
    "        theta = theta - 0.0001 * grad\n",
    "        theta_list.append(theta)\n",
    "        \n",
    "        iterations -=1\n",
    "    \n",
    "    return theta, error_list, theta_list \n",
    "\n",
    "\n",
    "f = pd.read_csv('Train.csv')\n",
    "\n",
    "x1 = f[\"feature_1\"]\n",
    "x2 = f[\"feature_2\"]\n",
    "x3 = f[\"feature_3\"]\n",
    "x4 = f[\"feature_4\"]\n",
    "x5 = f[\"feature_5\"]\n",
    "\n",
    "y = f[\"target\"]\n",
    "\n",
    "x1 = x1.values.reshape((-1,))\n",
    "x2 = x2.values.reshape((-1,))\n",
    "x3 = x3.values.reshape((-1,))\n",
    "x4 = x4.values.reshape((-1,))\n",
    "x5 = x5.values.reshape((-1,))\n",
    "\n",
    "y = y.values.reshape((-1,))\n",
    "\n",
    "theta, error_list, theta_list = gradientDescent(x1, x2, x3, x4, x5, y)\n",
    "\n",
    "theta_list = np.array(theta_list)\n",
    "\n",
    "plt.plot(error_list)\n",
    "plt.show()\n",
    "\n",
    "print(error_list[-1])"
   ]
  },
  {
   "cell_type": "code",
   "execution_count": null,
   "metadata": {},
   "outputs": [],
   "source": []
  }
 ],
 "metadata": {
  "kernelspec": {
   "display_name": "Python 3",
   "language": "python",
   "name": "python3"
  },
  "language_info": {
   "codemirror_mode": {
    "name": "ipython",
    "version": 3
   },
   "file_extension": ".py",
   "mimetype": "text/x-python",
   "name": "python",
   "nbconvert_exporter": "python",
   "pygments_lexer": "ipython3",
   "version": "3.6.4"
  }
 },
 "nbformat": 4,
 "nbformat_minor": 2
}
