{
 "cells": [
  {
   "cell_type": "markdown",
   "metadata": {},
   "source": [
    "# Gradient Descent Algorithm"
   ]
  },
  {
   "cell_type": "code",
   "execution_count": 43,
   "metadata": {},
   "outputs": [
    {
     "data": {
      "image/png": "[encoded data removed]",
      "text/plain": [
       "<matplotlib.figure.Figure at 0x22707a815f8>"
      ]
     },
     "metadata": {},
     "output_type": "display_data"
    },
    {
     "name": "stdout",
     "output_type": "stream",
     "text": [
      "664885.3146226787\n"
     ]
    }
   ],
   "source": [
    "import numpy as np\n",
    "import pandas as pd\n",
    "import matplotlib.pyplot as plt\n",
    "\n",
    "\n",
    "def hypothesis(theta, x1, x2, x3, x4, x5):\n",
    "    return theta[5]*x5 + theta[4]*x4 + theta[3]*x3 + theta[2]*x2 + theta[1]*x1 + theta[0]\n",
    "\n",
    "\n",
    "def error(x, y, theta):\n",
    "    \n",
    "    total_error = 0\n",
    "    \n",
    "    for i in range (len(x1)):\n",
    "        total_error += (hypothesis(theta, x[0][i], x[1][i], x[2][i], x[3][i], x[4][i]) - y[i])**2\n",
    "\n",
    "    return total_error\n",
    "        \n",
    "        \n",
    "def cal_gradient(x, y, theta):\n",
    "    \n",
    "    grad = np.zeros((6,))\n",
    "\n",
    "    for i in range(len(y)):\n",
    "        \n",
    "        h = hypothesis(theta, x[0][i], x[1][i], x[2][i], x[3][i], x[4][i])\n",
    "        grad[0] += (y[i] - h)\n",
    "        grad[1] += (y[i] - h) * x[0][i]\n",
    "        grad[2] += (y[i] - h) * x[1][i]\n",
    "        grad[3] += (y[i] - h) * x[2][i]\n",
    "        grad[4] += (y[i] - h) * x[3][i]\n",
    "        grad[5] += (y[i] - h) * x[4][i]\n",
    "    \n",
    "    return grad\n",
    "\n",
    "\n",
    "def gradientDescent(x, y):\n",
    "    \n",
    "    iterations = 200\n",
    "    error_list = [0.01,0]\n",
    "    theta_list = []\n",
    "    theta = np.array([0, 0, 0, 0, 0, 0])\n",
    "    change_error = 0.01\n",
    "    \n",
    "    while iterations > 0 and change_error >= 0.01:\n",
    "        \n",
    "        total_error = error(x, y, theta)\n",
    "        error_list.append(total_error)\n",
    "        \n",
    "        grad = cal_gradient(x, y, theta)\n",
    "        \n",
    "        theta = theta + 0.001 * grad\n",
    "        theta_list.append(theta)\n",
    "        \n",
    "        change_error = abs(error_list[-2] - error_list[-1])\n",
    "        iterations -=1\n",
    "    \n",
    "    return theta, error_list, theta_list\n",
    "  \n",
    "\n",
    "f = pd.read_csv('Train.csv')\n",
    "\n",
    "x1 = f[\"feature_1\"]\n",
    "x2 = f[\"feature_2\"]\n",
    "x3 = f[\"feature_3\"]\n",
    "x4 = f[\"feature_4\"]\n",
    "x5 = f[\"feature_5\"]\n",
    "\n",
    "y = f[\"target\"]\n",
    "\n",
    "x1 = x1.values.reshape((-1,))\n",
    "x2 = x2.values.reshape((-1,))\n",
    "x3 = x3.values.reshape((-1,))\n",
    "x4 = x4.values.reshape((-1,))\n",
    "x5 = x5.values.reshape((-1,))\n",
    "\n",
    "x = [x1, x2, x3, x4, x5]\n",
    "\n",
    "y = y.values.reshape((-1,))\n",
    "\n",
    "theta, error_list, theta_list = gradientDescent(x, y)\n",
    "\n",
    "theta_list = np.array(theta_list)\n",
    "\n",
    "plt.plot(error_list)\n",
    "plt.style.use('seaborn')\n",
    "plt.show()\n",
    "\n",
    "print(error_list[-1])"
   ]
  },
  {
   "cell_type": "markdown",
   "metadata": {},
   "source": [
    "## Equation of hypothesis"
   ]
  },
  {
   "cell_type": "code",
   "execution_count": 26,
   "metadata": {},
   "outputs": [
    {
     "name": "stdout",
     "output_type": "stream",
     "text": [
      "Y = 2.52*X5 + 44.77*X4 + 8.28*X3 + 92.66*X2 + 29.68*X1 +4.99\n"
     ]
    }
   ],
   "source": [
    "print(\"Y = %0.2f*X5 + %0.2f*X4 + %0.2f*X3 + %0.2f*X2 + %0.2f*X1 +%0.2f\" %(theta[5], theta[4], theta[3], theta[2], theta[1], theta[0]))"
   ]
  },
  {
   "cell_type": "markdown",
   "metadata": {},
   "source": [
    "## Score"
   ]
  },
  {
   "cell_type": "code",
   "execution_count": 30,
   "metadata": {},
   "outputs": [
    {
     "name": "stdout",
     "output_type": "stream",
     "text": [
      "-34.70550843602186\n"
     ]
    }
   ],
   "source": [
    "score = []\n",
    "\n",
    "ya = np.mean(y)\n",
    "\n",
    "for i in range(len(y)):\n",
    "    \n",
    "    h = hypothesis(theta, x[0][i], x[1][i], x[2][i], x[3][i], x[4][i])\n",
    "    \n",
    "    r_square = 1 - ((y[i]-h)/(y[i]-ya))**2\n",
    "    \n",
    "    score.append(r_square)\n",
    "    \n",
    "average_score = np.mean(score)   \n",
    "print(average_score)\n"
   ]
  },
  {
   "cell_type": "markdown",
   "metadata": {},
   "source": [
    "## Testing Score"
   ]
  },
  {
   "cell_type": "code",
   "execution_count": 22,
   "metadata": {},
   "outputs": [
    {
     "name": "stdout",
     "output_type": "stream",
     "text": [
      "average error is 400.92\n"
     ]
    }
   ],
   "source": [
    "f = pd.read_csv('Test.csv')\n",
    "\n",
    "x1 = f[\"feature_1\"]\n",
    "x2 = f[\"feature_2\"]\n",
    "x3 = f[\"feature_3\"]\n",
    "x4 = f[\"feature_4\"]\n",
    "x5 = f[\"feature_5\"]\n",
    "\n",
    "y = f[\"target\"]\n",
    "\n",
    "x1 = x1.values.reshape((-1,))\n",
    "x2 = x2.values.reshape((-1,))\n",
    "x3 = x3.values.reshape((-1,))\n",
    "x4 = x4.values.reshape((-1,))\n",
    "x5 = x5.values.reshape((-1,))\n",
    "\n",
    "err = []\n",
    "\n",
    "for i in range (len(y)):\n",
    "    \n",
    "    yp = theta[5]*x5[i] + theta[4]*x4[i] + theta[3]*x3[i] + theta[2]*x2[i] + theta[1]*x1[i] + theta[0]\n",
    "\n",
    "    err.append((y[i] - yp)**2)\n",
    "    \n",
    "print(\"average error is %0.2f\"%np.mean(err))    "
   ]
  },
  {
   "cell_type": "markdown",
   "metadata": {},
   "source": [
    "# Stochastic Gradient Descent"
   ]
  },
  {
   "cell_type": "code",
   "execution_count": 46,
   "metadata": {},
   "outputs": [
    {
     "data": {
      "image/png": "[encoded data removed]",
      "text/plain": [
       "<matplotlib.figure.Figure at 0x22706950978>"
      ]
     },
     "metadata": {},
     "output_type": "display_data"
    },
    {
     "name": "stdout",
     "output_type": "stream",
     "text": [
      "712244.919399234\n"
     ]
    }
   ],
   "source": [
    "import numpy as np\n",
    "import pandas as pd\n",
    "import matplotlib.pyplot as plt\n",
    "\n",
    "\n",
    "def hypothesis(theta, x1, x2, x3, x4, x5):\n",
    "    return theta[5] * x5 + theta[4] * x4 + theta[3] * x3 + theta[2] * x2 + theta[1] * x1 + theta[0]\n",
    "\n",
    "\n",
    "def error(x, y, theta):\n",
    "    \n",
    "    total_error = 0\n",
    "    \n",
    "    for i in range (len(x1)):\n",
    "        \n",
    "        h = hypothesis(theta, x[0][i], x[1][i], x[2][i], x[3][i], x[4][i])\n",
    "        total_error += (h - y[i])**2\n",
    "\n",
    "    return total_error\n",
    "        \n",
    "        \n",
    "def cal_gradient(x, y, theta):\n",
    "    \n",
    "    grad = np.zeros((6,))\n",
    "    indices = np.arange(y.shape[0])\n",
    "    np.random.shuffle(indices)\n",
    "    indices = indices[:1]\n",
    "\n",
    "    for i in indices:\n",
    "        \n",
    "        h = hypothesis(theta, x[0][i], x[1][i], x[2][i], x[3][i], x[4][i])\n",
    "        grad[0] += (y[i] - h)\n",
    "        grad[1] += (y[i] - h) * x[0][i]\n",
    "        grad[2] += (y[i] - h) * x[1][i]\n",
    "        grad[3] += (y[i] - h) * x[2][i]\n",
    "        grad[4] += (y[i] - h) * x[3][i]\n",
    "        grad[5] += (y[i] - h) * x[4][i]\n",
    "    \n",
    "    return grad\n",
    "\n",
    "\n",
    "def gradientDescent(x, y):\n",
    "    \n",
    "    iterations = 300\n",
    "    error_list = []\n",
    "    theta_list = []\n",
    "    theta = np.array([0, 0, 0, 0, 0, 0])\n",
    "    \n",
    "    while iterations > 0:\n",
    "        \n",
    "        total_error = error(x, y, theta)\n",
    "        error_list.append(total_error)\n",
    "        grad = cal_gradient(x, y, theta)\n",
    "        \n",
    "        theta = theta + 0.01 * grad\n",
    "        theta_list.append(theta)\n",
    "        \n",
    "        iterations -=1\n",
    "    \n",
    "    return theta, error_list, theta_list \n",
    "\n",
    "\n",
    "f = pd.read_csv('Train.csv')\n",
    "\n",
    "x1 = f[\"feature_1\"]\n",
    "x2 = f[\"feature_2\"]\n",
    "x3 = f[\"feature_3\"]\n",
    "x4 = f[\"feature_4\"]\n",
    "x5 = f[\"feature_5\"]\n",
    "\n",
    "y = f[\"target\"]\n",
    "\n",
    "x1 = x1.values.reshape((-1,))\n",
    "x2 = x2.values.reshape((-1,))\n",
    "x3 = x3.values.reshape((-1,))\n",
    "x4 = x4.values.reshape((-1,))\n",
    "x5 = x5.values.reshape((-1,))\n",
    "\n",
    "x = [x1, x2, x3, x4, x5]\n",
    "\n",
    "y = y.values.reshape((-1,))\n",
    "\n",
    "theta, error_list, theta_list = gradientDescent(x, y)\n",
    "\n",
    "theta_list = np.array(theta_list)\n",
    "\n",
    "plt.plot(error_list)\n",
    "plt.style.use('seaborn')\n",
    "plt.show()\n",
    "\n",
    "print(error_list[-1])"
   ]
  },
  {
   "cell_type": "markdown",
   "metadata": {},
   "source": [
    "## Equation of hypothesis"
   ]
  },
  {
   "cell_type": "code",
   "execution_count": 55,
   "metadata": {},
   "outputs": [
    {
     "name": "stdout",
     "output_type": "stream",
     "text": [
      "Y = 3.72*X5 + 41.20*X4 + 10.30*X3 + 90.53*X2 + 27.67*X1 +5.37\n"
     ]
    }
   ],
   "source": [
    "print(\"Y = %0.2f*X5 + %0.2f*X4 + %0.2f*X3 + %0.2f*X2 + %0.2f*X1 +%0.2f\" %(theta[5], theta[4], theta[3], theta[2], theta[1], theta[0]))"
   ]
  },
  {
   "cell_type": "markdown",
   "metadata": {},
   "source": [
    "## Testing score"
   ]
  },
  {
   "cell_type": "code",
   "execution_count": 56,
   "metadata": {},
   "outputs": [
    {
     "name": "stdout",
     "output_type": "stream",
     "text": [
      "-53.47885483045537\n"
     ]
    }
   ],
   "source": [
    "score = []\n",
    "\n",
    "ya = np.mean(y)\n",
    "\n",
    "for i in range(len(y)):\n",
    "    \n",
    "    yp = theta[5]*x5[i] + theta[4]*x4[i] + theta[3]*x3[i] + theta[2]*x2[i] + theta[1]*x1[i] + theta[0]\n",
    "    \n",
    "    r_square = 1 - ((y[i]-yp)/(y[i]-ya))**2\n",
    "    \n",
    "    score.append(r_square)\n",
    "    \n",
    "average_score = np.mean(score)  \n",
    "print(average_score)\n"
   ]
  },
  {
   "cell_type": "markdown",
   "metadata": {},
   "source": [
    "## Testing"
   ]
  },
  {
   "cell_type": "code",
   "execution_count": 53,
   "metadata": {},
   "outputs": [
    {
     "name": "stdout",
     "output_type": "stream",
     "text": [
      "average error is 427.30\n"
     ]
    }
   ],
   "source": [
    "f = pd.read_csv('Test.csv')\n",
    "\n",
    "x1 = f[\"feature_1\"]\n",
    "x2 = f[\"feature_2\"]\n",
    "x3 = f[\"feature_3\"]\n",
    "x4 = f[\"feature_4\"]\n",
    "x5 = f[\"feature_5\"]\n",
    "\n",
    "y = f[\"target\"]\n",
    "\n",
    "x1 = x1.values.reshape((-1,))\n",
    "x2 = x2.values.reshape((-1,))\n",
    "x3 = x3.values.reshape((-1,))\n",
    "x4 = x4.values.reshape((-1,))\n",
    "x5 = x5.values.reshape((-1,))\n",
    "\n",
    "x = [x1, x2, x3, x4, x5]\n",
    "\n",
    "err = []\n",
    "\n",
    "for i in range (len(y)):\n",
    "    \n",
    "    yp = theta[5]*x5[i] + theta[4]*x4[i] + theta[3]*x3[i] + theta[2]*x2[i] + theta[1]*x1[i] + theta[0]\n",
    "\n",
    "    err.append((y[i] - yp)**2)\n",
    "    \n",
    "print(\"average error is %0.2f\"%np.mean(err))    "
   ]
  },
  {
   "cell_type": "markdown",
   "metadata": {},
   "source": [
    "# The average error of normal Gradient Descent algorithm is less than Batch Gradient descent algorithm, hence normal descent algorithm is better."
   ]
  },
  {
   "cell_type": "code",
   "execution_count": null,
   "metadata": {},
   "outputs": [],
   "source": []
  }
 ],
 "metadata": {
  "kernelspec": {
   "display_name": "Python 3",
   "language": "python",
   "name": "python3"
  },
  "language_info": {
   "codemirror_mode": {
    "name": "ipython",
    "version": 3
   },
   "file_extension": ".py",
   "mimetype": "text/x-python",
   "name": "python",
   "nbconvert_exporter": "python",
   "pygments_lexer": "ipython3",
   "version": "3.6.4"
  }
 },
 "nbformat": 4,
 "nbformat_minor": 2
}
