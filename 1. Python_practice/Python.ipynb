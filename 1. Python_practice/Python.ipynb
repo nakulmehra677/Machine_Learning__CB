{
 "cells": [
  {
   "cell_type": "markdown",
   "metadata": {},
   "source": [
    "# Python basics"
   ]
  },
  {
   "cell_type": "markdown",
   "metadata": {},
   "source": [
    "## Variables"
   ]
  },
  {
   "cell_type": "code",
   "execution_count": 2,
   "metadata": {},
   "outputs": [
    {
     "name": "stdout",
     "output_type": "stream",
     "text": [
      "Hello World\n"
     ]
    }
   ],
   "source": [
    "print(\"Hello World\")"
   ]
  },
  {
   "cell_type": "code",
   "execution_count": 5,
   "metadata": {},
   "outputs": [
    {
     "name": "stdout",
     "output_type": "stream",
     "text": [
      "10\n",
      "10.5\n",
      "<class 'int'>\n",
      "<class 'float'>\n"
     ]
    }
   ],
   "source": [
    "a = 10\n",
    "b = 10.5\n",
    "\n",
    "print(a)\n",
    "print(b)\n",
    "\n",
    "print(type(a))\n",
    "print(type(b))"
   ]
  },
  {
   "cell_type": "code",
   "execution_count": 7,
   "metadata": {},
   "outputs": [
    {
     "name": "stdout",
     "output_type": "stream",
     "text": [
      "(5+9j)\n",
      "<class 'complex'>\n"
     ]
    }
   ],
   "source": [
    "c = 5 + 9j\n",
    "\n",
    "print(c)\n",
    "\n",
    "print(type(c))"
   ]
  },
  {
   "cell_type": "markdown",
   "metadata": {},
   "source": [
    "## Working with Inputs"
   ]
  },
  {
   "cell_type": "code",
   "execution_count": 8,
   "metadata": {},
   "outputs": [
    {
     "name": "stdout",
     "output_type": "stream",
     "text": [
      "Nakul Mehra\n",
      "Nakul Mehra\n"
     ]
    }
   ],
   "source": [
    "name = input()\n",
    "\n",
    "print(name)"
   ]
  },
  {
   "cell_type": "code",
   "execution_count": 10,
   "metadata": {},
   "outputs": [
    {
     "name": "stdout",
     "output_type": "stream",
     "text": [
      "Nakul Mehra\n",
      "Hello\n",
      "Nakul Mehra\n",
      "Hello Nakul Mehra\n"
     ]
    }
   ],
   "source": [
    "name = input()\n",
    "\n",
    "print(\"Hello\")\n",
    "print(name)\n",
    "\n",
    "print(\"Hello\",end=\" \")\n",
    "print(name)"
   ]
  },
  {
   "cell_type": "code",
   "execution_count": 13,
   "metadata": {},
   "outputs": [
    {
     "name": "stdout",
     "output_type": "stream",
     "text": [
      "Enter the name of institute Coding Blocks\n",
      "Coding Blocks\n"
     ]
    }
   ],
   "source": [
    "name = input(\"Enter the name of institute \")\n",
    "\n",
    "print(name)"
   ]
  },
  {
   "cell_type": "markdown",
   "metadata": {},
   "source": [
    "## Reading numbers - Type casting"
   ]
  },
  {
   "cell_type": "code",
   "execution_count": 26,
   "metadata": {},
   "outputs": [
    {
     "name": "stdout",
     "output_type": "stream",
     "text": [
      "Enter the number 4\n",
      "4\n",
      "<class 'str'>\n",
      "<class 'int'>\n",
      "Square of number is 16\n"
     ]
    }
   ],
   "source": [
    "number = input(\"Enter the number \")\n",
    "\n",
    "print(number)\n",
    "print(type(number))\n",
    "\n",
    "number = int(number)\n",
    "print(type(number))\n",
    "\n",
    "print(\"Square of number is \" + str(number**2))"
   ]
  },
  {
   "cell_type": "code",
   "execution_count": 27,
   "metadata": {},
   "outputs": [
    {
     "name": "stdout",
     "output_type": "stream",
     "text": [
      "34.666\n",
      "34.666\n",
      "<class 'float'>\n"
     ]
    }
   ],
   "source": [
    "d= float(input())\n",
    "\n",
    "print(d)\n",
    "print(type(d))"
   ]
  },
  {
   "cell_type": "markdown",
   "metadata": {},
   "source": [
    "## More about print function\n",
    "- format\n",
    "- end\n",
    "- sep"
   ]
  },
  {
   "cell_type": "code",
   "execution_count": 30,
   "metadata": {},
   "outputs": [
    {
     "name": "stdout",
     "output_type": "stream",
     "text": [
      "Hello I love python\n",
      "HelloIlovepython\n",
      "Hello I love python\n"
     ]
    }
   ],
   "source": [
    "print(\"Hello\",\"I\",\"love\",\"python\")\n",
    "\n",
    "print(\"Hello\"+\"I\"+\"love\"+\"python\")\n",
    "\n",
    "print(\"Hello \"+\"I \"+\"love \"+\"python\")"
   ]
  },
  {
   "cell_type": "code",
   "execution_count": 34,
   "metadata": {},
   "outputs": [
    {
     "name": "stdout",
     "output_type": "stream",
     "text": [
      "Hello\n",
      "I\n",
      "love\n",
      "python\n"
     ]
    }
   ],
   "source": [
    "print(\"Hello\",\"I\",\"love\",\"python\",sep=\"\\n\")\n"
   ]
  },
  {
   "cell_type": "code",
   "execution_count": 36,
   "metadata": {},
   "outputs": [
    {
     "name": "stdout",
     "output_type": "stream",
     "text": [
      "10, 20\n"
     ]
    }
   ],
   "source": [
    "a = 10\n",
    "b = 20\n",
    "print(a,end=', ')\n",
    "print(b)"
   ]
  },
  {
   "cell_type": "code",
   "execution_count": 37,
   "metadata": {},
   "outputs": [
    {
     "name": "stdout",
     "output_type": "stream",
     "text": [
      "Indians love Mangoes\n"
     ]
    }
   ],
   "source": [
    "a = \"Indians\"\n",
    "b = \"Mangoes\"\n",
    "\n",
    "print(\"{0} love {1}\".format(a,b))"
   ]
  },
  {
   "cell_type": "code",
   "execution_count": 38,
   "metadata": {},
   "outputs": [
    {
     "name": "stdout",
     "output_type": "stream",
     "text": [
      "You entered 10 and 20\n"
     ]
    }
   ],
   "source": [
    "a = 10\n",
    "b = 20\n",
    "\n",
    "print(\"You entered %d and %d\"%(a,b))"
   ]
  },
  {
   "cell_type": "code",
   "execution_count": 30,
   "metadata": {},
   "outputs": [
    {
     "name": "stdout",
     "output_type": "stream",
     "text": [
      "Hello + world\n"
     ]
    }
   ],
   "source": [
    "a = \"Hello\"\n",
    "b = \"world\"\n",
    "\n",
    "print(a,b,sep = \" + \")"
   ]
  },
  {
   "cell_type": "markdown",
   "metadata": {},
   "source": [
    "## Arithmatic operators"
   ]
  },
  {
   "cell_type": "code",
   "execution_count": 4,
   "metadata": {},
   "outputs": [
    {
     "name": "stdout",
     "output_type": "stream",
     "text": [
      "31\n",
      "-11\n",
      "210\n",
      "0.47619047619047616\n",
      "0\n",
      "10\n",
      "0.4762\n",
      "1000000000000000000000\n"
     ]
    }
   ],
   "source": [
    "a = 10\n",
    "b = 21\n",
    "\n",
    "print(a+b)\n",
    "print(a-b)\n",
    "print(a*b)\n",
    "print(a/b)      # gives float value\n",
    "print(a//b)     # gives integer value\n",
    "print(a%b)\n",
    "print(\"%0.4f\"%(a/b))   # print 4 digits after decimal\n",
    "print(a**b)            # print a^b"
   ]
  },
  {
   "cell_type": "markdown",
   "metadata": {},
   "source": [
    "## Multiple variable assignment"
   ]
  },
  {
   "cell_type": "code",
   "execution_count": 5,
   "metadata": {},
   "outputs": [
    {
     "name": "stdout",
     "output_type": "stream",
     "text": [
      "10 20 30.5\n"
     ]
    }
   ],
   "source": [
    "a,b,c = 10,20,30.5\n",
    "print(a, b, c)"
   ]
  },
  {
   "cell_type": "markdown",
   "metadata": {},
   "source": [
    "## Comments"
   ]
  },
  {
   "cell_type": "code",
   "execution_count": 6,
   "metadata": {},
   "outputs": [
    {
     "name": "stdout",
     "output_type": "stream",
     "text": [
      "this is \n",
      "multiline string\n"
     ]
    }
   ],
   "source": [
    "#this is single line comment\n",
    "\"\"\"this is multiline comment\"\"\"\n",
    "\n",
    "string = \"\"\"this is \n",
    "multiline string\"\"\"\n",
    "\n",
    "print(string)"
   ]
  },
  {
   "cell_type": "markdown",
   "metadata": {},
   "source": [
    "## Operators- arithematic, logical, compound assignment, comparison operators"
   ]
  },
  {
   "cell_type": "code",
   "execution_count": 7,
   "metadata": {},
   "outputs": [
    {
     "name": "stdout",
     "output_type": "stream",
     "text": [
      "False\n"
     ]
    }
   ],
   "source": [
    "raining = True\n",
    "Temperature = 30\n",
    "\n",
    "output = not raining and Temperature < 30\n",
    "print(output)"
   ]
  },
  {
   "cell_type": "code",
   "execution_count": 9,
   "metadata": {},
   "outputs": [
    {
     "name": "stdout",
     "output_type": "stream",
     "text": [
      "Cool\n",
      "Let's play\n"
     ]
    }
   ],
   "source": [
    "weather = input()\n",
    "\n",
    "if weather == \"Rainy\":\n",
    "    print(\"Dont't go outside\")\n",
    "    \n",
    "elif weather == \"Cool\":\n",
    "    print(\"Let's play\")\n",
    "    \n",
    "else:\n",
    "    print(\"Let's go for shopping\")\n",
    "    "
   ]
  },
  {
   "cell_type": "markdown",
   "metadata": {},
   "source": [
    "## Loops"
   ]
  },
  {
   "cell_type": "code",
   "execution_count": 11,
   "metadata": {},
   "outputs": [
    {
     "name": "stdout",
     "output_type": "stream",
     "text": [
      "Step 1\n",
      "Step 2\n",
      "Step 3\n",
      "Step 4\n",
      "Step 5\n",
      "Step 6\n",
      "Step 7\n",
      "Step 8\n",
      "Step 9\n",
      "Step 10\n",
      "Loop finished\n"
     ]
    }
   ],
   "source": [
    "n = 10\n",
    "i = 1\n",
    "while i<=10:\n",
    "    print(\"Step\",str(i))\n",
    "    i=i+1\n",
    "    \n",
    "print(\"Loop finished\")    "
   ]
  },
  {
   "cell_type": "code",
   "execution_count": 15,
   "metadata": {},
   "outputs": [
    {
     "name": "stdout",
     "output_type": "stream",
     "text": [
      "1,2,3,4,5,6,7,8,9,"
     ]
    }
   ],
   "source": [
    "for i in range (1,10):\n",
    "    print(i, end = \",\")"
   ]
  },
  {
   "cell_type": "code",
   "execution_count": 14,
   "metadata": {},
   "outputs": [
    {
     "name": "stdout",
     "output_type": "stream",
     "text": [
      "1,3,5,7,9,"
     ]
    }
   ],
   "source": [
    "for i in range (1,10,2):   # Take jump of 2\n",
    "    print(i, end = \",\")"
   ]
  },
  {
   "cell_type": "markdown",
   "metadata": {},
   "source": [
    "## Reverse Loops"
   ]
  },
  {
   "cell_type": "code",
   "execution_count": 19,
   "metadata": {},
   "outputs": [
    {
     "name": "stdout",
     "output_type": "stream",
     "text": [
      "10,9,8,7,6,5,4,3,2,"
     ]
    }
   ],
   "source": [
    "for i in range (10, 1,-1):  # In reverse loops we will have to give jump in negative always.\n",
    "    print(i, end = \",\")"
   ]
  },
  {
   "cell_type": "markdown",
   "metadata": {},
   "source": [
    "## Break, continue and pass statements"
   ]
  },
  {
   "cell_type": "code",
   "execution_count": 21,
   "metadata": {},
   "outputs": [
    {
     "name": "stdout",
     "output_type": "stream",
     "text": [
      "1\n",
      "2\n",
      "3\n",
      "4\n",
      "5\n",
      "6\n",
      "7\n",
      "8\n",
      "9\n"
     ]
    }
   ],
   "source": [
    "for i in range (1, 10):\n",
    "    if i == 5:\n",
    "        pass          # used when we want to do noting\n",
    "    print(i)"
   ]
  },
  {
   "cell_type": "code",
   "execution_count": 23,
   "metadata": {},
   "outputs": [
    {
     "name": "stdout",
     "output_type": "stream",
     "text": [
      "1\n",
      "2\n",
      "3\n",
      "4\n"
     ]
    }
   ],
   "source": [
    "for i in range (1, 10):\n",
    "    if i == 5:\n",
    "        break          # break the loop when i==5\n",
    "    print(i)"
   ]
  },
  {
   "cell_type": "code",
   "execution_count": 24,
   "metadata": {},
   "outputs": [
    {
     "name": "stdout",
     "output_type": "stream",
     "text": [
      "1\n",
      "2\n",
      "3\n",
      "4\n",
      "6\n",
      "7\n",
      "8\n",
      "9\n"
     ]
    }
   ],
   "source": [
    "for i in range (1, 10):\n",
    "    if i == 5:\n",
    "        continue          # skip the bottom part of loop\n",
    "    print(i)"
   ]
  },
  {
   "cell_type": "markdown",
   "metadata": {},
   "source": [
    "## Default argument values and local global variables"
   ]
  },
  {
   "cell_type": "code",
   "execution_count": 26,
   "metadata": {},
   "outputs": [
    {
     "name": "stdout",
     "output_type": "stream",
     "text": [
      "I love Javascript\n",
      "I love Python\n"
     ]
    }
   ],
   "source": [
    "def say(x = \"Python\"):    # Python is default value \n",
    "    print(\"I love\", x)\n",
    "    \n",
    "say(\"Javascript\")    \n",
    "say()"
   ]
  },
  {
   "cell_type": "markdown",
   "metadata": {},
   "source": [
    "## Recusive function"
   ]
  },
  {
   "cell_type": "code",
   "execution_count": 28,
   "metadata": {},
   "outputs": [
    {
     "name": "stdout",
     "output_type": "stream",
     "text": [
      "720\n"
     ]
    }
   ],
   "source": [
    "def fact(n):\n",
    "    if n==1:\n",
    "        return 1\n",
    "    return n*fact(n-1)\n",
    "\n",
    "print(fact(6))"
   ]
  },
  {
   "cell_type": "markdown",
   "metadata": {},
   "source": [
    "## Keyword arguments"
   ]
  },
  {
   "cell_type": "code",
   "execution_count": 38,
   "metadata": {},
   "outputs": [
    {
     "name": "stdout",
     "output_type": "stream",
     "text": [
      "I scored 56 in Javascipt\n",
      "4\n",
      "I scored 80 in Python\n",
      "30\n"
     ]
    }
   ],
   "source": [
    "def fun (score = 80, lang = \"Python\", rollNo = 30):\n",
    "    print(\"I scored %d in %s\"%(score,lang))\n",
    "    print(rollNo)\n",
    "    \n",
    "fun (56, \"Javascipt\", 4)\n",
    "fun ()"
   ]
  },
  {
   "cell_type": "markdown",
   "metadata": {},
   "source": [
    "# Data Structures"
   ]
  },
  {
   "cell_type": "markdown",
   "metadata": {},
   "source": [
    "## Strings and Builtin methods"
   ]
  },
  {
   "cell_type": "code",
   "execution_count": 41,
   "metadata": {},
   "outputs": [
    {
     "name": "stdout",
     "output_type": "stream",
     "text": [
      "Coding Blocks\n",
      "d\n",
      "s\n",
      "13\n"
     ]
    }
   ],
   "source": [
    "# Strings are not mutable\n",
    "a = \"Coding Blocks\"\n",
    "\n",
    "print(a)\n",
    "print(a[2])\n",
    "print(a[-1])\n",
    "print(len(a))"
   ]
  },
  {
   "cell_type": "code",
   "execution_count": 44,
   "metadata": {},
   "outputs": [
    {
     "name": "stdout",
     "output_type": "stream",
     "text": [
      "C\n",
      "o\n",
      "d\n",
      "i\n",
      "n\n",
      "g\n",
      " \n",
      "B\n",
      "l\n",
      "o\n",
      "c\n",
      "k\n",
      "s\n"
     ]
    }
   ],
   "source": [
    "a = \"Coding Blocks\"\n",
    "\n",
    "for i in range (len(a)):\n",
    "    print(a[i])"
   ]
  },
  {
   "cell_type": "code",
   "execution_count": 43,
   "metadata": {},
   "outputs": [
    {
     "name": "stdout",
     "output_type": "stream",
     "text": [
      "C\n",
      "o\n",
      "d\n",
      "i\n",
      "n\n",
      "g\n",
      " \n",
      "B\n",
      "l\n",
      "o\n",
      "c\n",
      "k\n",
      "s\n"
     ]
    }
   ],
   "source": [
    "a = \"Coding Blocks\"\n",
    "\n",
    "for c in a:\n",
    "    print(c)"
   ]
  },
  {
   "cell_type": "code",
   "execution_count": 49,
   "metadata": {},
   "outputs": [
    {
     "name": "stdout",
     "output_type": "stream",
     "text": [
      "MangoJuice\n",
      "MangoMangoMangoMangoMango\n",
      "an\n",
      "Mango\n",
      "go\n"
     ]
    }
   ],
   "source": [
    "a = \"Mango\"\n",
    "b = \"Juice\"\n",
    "\n",
    "print(a + b)\n",
    "print(a*5)\n",
    "print(a[1:-2])\n",
    "print(a[:])\n",
    "print(a[-2:])"
   ]
  },
  {
   "cell_type": "code",
   "execution_count": 54,
   "metadata": {},
   "outputs": [
    {
     "name": "stdout",
     "output_type": "stream",
     "text": [
      "True\n",
      "Yes\n"
     ]
    }
   ],
   "source": [
    "a = \"Papaya\"\n",
    "print('p' in a)\n",
    "\n",
    "b = \"Coding Blocks\"\n",
    "if \"Coding\" in b:\n",
    "    print(\"Yes\")"
   ]
  },
  {
   "cell_type": "code",
   "execution_count": 2,
   "metadata": {},
   "outputs": [
    {
     "name": "stdout",
     "output_type": "stream",
     "text": [
      "['This', 'is', 'some', 'code', 'written', 'here']\n",
      "<class 'list'>\n",
      "<class 'str'>\n",
      "This-is-some-code-written-here\n"
     ]
    }
   ],
   "source": [
    "a = \"This is some code written here\"\n",
    "l = a.split()\n",
    "\n",
    "print(l)\n",
    "print(type(l))\n",
    "print(type(a))\n",
    "\n",
    "print(\"-\".join(l))"
   ]
  },
  {
   "cell_type": "code",
   "execution_count": 9,
   "metadata": {},
   "outputs": [
    {
     "name": "stdout",
     "output_type": "stream",
     "text": [
      "['This is ', 'some code ', 'written here']\n"
     ]
    }
   ],
   "source": [
    "a = \"\"\"This is \n",
    "some code \n",
    "written here\"\"\"\n",
    "\n",
    "print(a.splitlines())"
   ]
  },
  {
   "cell_type": "code",
   "execution_count": 10,
   "metadata": {},
   "outputs": [
    {
     "name": "stdout",
     "output_type": "stream",
     "text": [
      "MANGO\n",
      "mango\n"
     ]
    }
   ],
   "source": [
    "fruit = \"Mango\"\n",
    "\n",
    "print(fruit.upper())\n",
    "print(fruit.lower())"
   ]
  },
  {
   "cell_type": "code",
   "execution_count": 16,
   "metadata": {},
   "outputs": [
    {
     "name": "stdout",
     "output_type": "stream",
     "text": [
      "    Hello World     \n",
      "20\n",
      "Hello World\n",
      "11\n",
      "Hello World     \n",
      "    Hello World\n"
     ]
    }
   ],
   "source": [
    "a = \"    Hello World     \"\n",
    "b = a.strip()      # removes whitespaces \n",
    "c = a.lstrip()     # removes leading whitespaces\n",
    "d = a.rstrip()     # removes ending whitespaces\n",
    "\n",
    "print(a)\n",
    "print(len(a))\n",
    "print(b)\n",
    "print(len(b))\n",
    "print(c)\n",
    "print(d)"
   ]
  },
  {
   "cell_type": "code",
   "execution_count": 17,
   "metadata": {},
   "outputs": [
    {
     "name": "stdout",
     "output_type": "stream",
     "text": [
      "True\n"
     ]
    }
   ],
   "source": [
    "a = \"9546\"\n",
    "\n",
    "print(a.isdigit())"
   ]
  },
  {
   "cell_type": "code",
   "execution_count": 6,
   "metadata": {},
   "outputs": [
    {
     "name": "stdout",
     "output_type": "stream",
     "text": [
      "False\n"
     ]
    }
   ],
   "source": [
    "a =\"H.No 345\"\n",
    "\n",
    "print(a.isalpha())"
   ]
  },
  {
   "cell_type": "code",
   "execution_count": 4,
   "metadata": {},
   "outputs": [
    {
     "name": "stdout",
     "output_type": "stream",
     "text": [
      "False\n"
     ]
    }
   ],
   "source": [
    "a = \"123abc@\"\n",
    "\n",
    "print(a.isalnum())"
   ]
  },
  {
   "cell_type": "code",
   "execution_count": 20,
   "metadata": {},
   "outputs": [
    {
     "name": "stdout",
     "output_type": "stream",
     "text": [
      "False\n"
     ]
    }
   ],
   "source": [
    "a = \"Abc\"\n",
    "\n",
    "print(a.islower())"
   ]
  },
  {
   "cell_type": "code",
   "execution_count": 22,
   "metadata": {},
   "outputs": [
    {
     "name": "stdout",
     "output_type": "stream",
     "text": [
      "False\n",
      "True\n"
     ]
    }
   ],
   "source": [
    "a = \"Hello World\"\n",
    "b = \"   \"\n",
    "\n",
    "print(a.isspace())\n",
    "print(b.isspace())"
   ]
  },
  {
   "cell_type": "markdown",
   "metadata": {},
   "source": [
    "## Some more string functions\n",
    "- Find function\n",
    "- Replace\n",
    "- Count function\n",
    "- Join function\n",
    "- Title function\n",
    "- Capitalize"
   ]
  },
  {
   "cell_type": "code",
   "execution_count": 31,
   "metadata": {},
   "outputs": [
    {
     "name": "stdout",
     "output_type": "stream",
     "text": [
      "7\n",
      "41\n",
      "-1\n",
      "7\n"
     ]
    }
   ],
   "source": [
    "a = \"I love Apple Juice and love eating green Apple\"\n",
    "\n",
    "print(a.find(\"Apple\"))    # find from left hand side\n",
    "print(a.rfind(\"Apple\"))    # find from right hand side\n",
    "print(a.find(\"Mango\"))\n",
    "\n",
    "print(a.index(\"Apple\"))     # same like find function but will show error if Apple is not present"
   ]
  },
  {
   "cell_type": "code",
   "execution_count": 35,
   "metadata": {},
   "outputs": [
    {
     "name": "stdout",
     "output_type": "stream",
     "text": [
      "I love Mango Juice and love eating green Mango\n",
      "2\n",
      "['I', 'love', 'Apple', 'Juice', 'and', 'love', 'eating', 'green', 'Apple']\n",
      "I_love_Apple_Juice_and_love_eating_green_Apple\n",
      "I-love-Apple-Juice-and-love-eating-green-Apple\n"
     ]
    }
   ],
   "source": [
    "a = \"I love Apple Juice and love eating green Apple\"\n",
    "\n",
    "\n",
    "print(a.replace(\"Apple\",\"Mango\"))\n",
    "print(a.count(\"Apple\"))\n",
    "\n",
    "l = a.split()\n",
    "print(l)\n",
    "\n",
    "print(\"_\".join(l))\n",
    "\n",
    "b = \"-\"\n",
    "print(b.join(l))"
   ]
  },
  {
   "cell_type": "code",
   "execution_count": 37,
   "metadata": {},
   "outputs": [
    {
     "name": "stdout",
     "output_type": "stream",
     "text": [
      "Codng blocks\n",
      "Codng Blocks\n"
     ]
    }
   ],
   "source": [
    "a = \"codng blocks\"\n",
    "\n",
    "print(a.capitalize())\n",
    "print(a.title())"
   ]
  },
  {
   "cell_type": "markdown",
   "metadata": {},
   "source": [
    "## Lists"
   ]
  },
  {
   "cell_type": "code",
   "execution_count": 39,
   "metadata": {},
   "outputs": [
    {
     "name": "stdout",
     "output_type": "stream",
     "text": [
      "[2, 66, 64, 86]\n",
      "<class 'list'>\n"
     ]
    }
   ],
   "source": [
    "a = [2,66,64,86]\n",
    "\n",
    "print(a)\n",
    "print(type(a))"
   ]
  },
  {
   "cell_type": "code",
   "execution_count": 44,
   "metadata": {},
   "outputs": [
    {
     "name": "stdout",
     "output_type": "stream",
     "text": [
      "[1, 4, 5, 64, 3]\n",
      "<class 'list'>\n",
      "[1, 4, 5, 64, 3, 1, 4, 5, 64, 3]\n"
     ]
    }
   ],
   "source": [
    "b = list([1,4,5,64,3])\n",
    "\n",
    "print(b)\n",
    "print(type(b))\n",
    "\n",
    "c = list(b)\n",
    "print(b+c)"
   ]
  },
  {
   "cell_type": "code",
   "execution_count": 47,
   "metadata": {},
   "outputs": [
    {
     "name": "stdout",
     "output_type": "stream",
     "text": [
      "[1, 4, 9, 16, 25]\n",
      "[1, 4, 9]\n"
     ]
    }
   ],
   "source": [
    "l1 = [i*i for i in range(1,6)]\n",
    "\n",
    "print(l1)\n",
    "print(l1[0:3])"
   ]
  },
  {
   "cell_type": "markdown",
   "metadata": {},
   "source": [
    "## Insertion and Deletion\n",
    "- append\n",
    "- insert\n",
    "- del\n",
    "- pop\n",
    "- remove"
   ]
  },
  {
   "cell_type": "code",
   "execution_count": 64,
   "metadata": {},
   "outputs": [
    {
     "name": "stdout",
     "output_type": "stream",
     "text": [
      "[1, 2]\n",
      "[1, 2, 3]\n",
      "[1, 2, 3, [4, 5]]\n",
      "3\n",
      "[4, 5]\n",
      "[1, 3, [4, 5]]\n",
      "[3, [4, 5]]\n",
      "[3]\n",
      "[3, 20]\n"
     ]
    }
   ],
   "source": [
    "l = [1, 2]\n",
    "\n",
    "print(l)\n",
    "\n",
    "l.append(3)\n",
    "print(l)\n",
    "\n",
    "l.append([4, 5])\n",
    "print(l)\n",
    "\n",
    "print(l[2])\n",
    "print(l[3])\n",
    "\n",
    "l.remove(2)\n",
    "print(l)\n",
    "\n",
    "del l[0]\n",
    "print(l)\n",
    "\n",
    "l.pop()\n",
    "print(l)\n",
    "\n",
    "l.insert(2,20)\n",
    "print(l)\n"
   ]
  },
  {
   "cell_type": "code",
   "execution_count": 62,
   "metadata": {},
   "outputs": [
    {
     "name": "stdout",
     "output_type": "stream",
     "text": [
      "[1, 2, 3, 4, 1, 2, 3, 4, 1, 2, 3, 4, 1, 2, 3, 4]\n"
     ]
    }
   ],
   "source": [
    "l = [1, 2, 3, 4]\n",
    "l = l*4\n",
    "\n",
    "print(l)"
   ]
  },
  {
   "cell_type": "code",
   "execution_count": 63,
   "metadata": {},
   "outputs": [
    {
     "name": "stdout",
     "output_type": "stream",
     "text": [
      "True\n"
     ]
    }
   ],
   "source": [
    "l = [\"Apple\", \"Mango\", \"Banana\", 40]\n",
    "\n",
    "print(40 in l)"
   ]
  },
  {
   "cell_type": "markdown",
   "metadata": {},
   "source": [
    "## More functions on lists"
   ]
  },
  {
   "cell_type": "code",
   "execution_count": 72,
   "metadata": {},
   "outputs": [
    {
     "name": "stdout",
     "output_type": "stream",
     "text": [
      "36\n",
      "1\n",
      "2\n",
      "[1, 3, 3, 5, 7, 36]\n",
      "[1, 3, 5, 36, 3, 7]\n",
      "[1, 3, 3, 5, 7, 36]\n",
      "[36, 7, 5, 3, 3, 1]\n"
     ]
    }
   ],
   "source": [
    "l = [1,3,5,36,3,7]\n",
    "\n",
    "print(max(l))\n",
    "print(min(l))\n",
    "\n",
    "print(l.index(5))\n",
    "\n",
    "print(sorted(l))\n",
    "print(l)\n",
    "\n",
    "l.sort()\n",
    "print(l)\n",
    "\n",
    "l.sort(reverse = True)\n",
    "print(l)"
   ]
  },
  {
   "cell_type": "code",
   "execution_count": 73,
   "metadata": {},
   "outputs": [
    {
     "name": "stdout",
     "output_type": "stream",
     "text": [
      "Input numbers1 3 65 2 45\n",
      "1 3 65 2 45\n",
      "<class 'str'>\n",
      "Input the numbers again3 5 5 3 5\n",
      "['3', '5', '5', '3', '5']\n",
      "<class 'list'>\n"
     ]
    }
   ],
   "source": [
    "a = input(\"Input numbers\")\n",
    "print(a)\n",
    "print(type(a))\n",
    "\n",
    "b = input(\"Input the numbers again\").split()\n",
    "print(b)\n",
    "print(type(b))"
   ]
  },
  {
   "cell_type": "markdown",
   "metadata": {},
   "source": [
    "## Tuples"
   ]
  },
  {
   "cell_type": "code",
   "execution_count": 1,
   "metadata": {},
   "outputs": [
    {
     "name": "stdout",
     "output_type": "stream",
     "text": [
      "(1, 2, 4, 3, 'Hello')\n",
      "[1, 2, 4, 3, 'Hello']\n",
      "(1, 2, 4, 3, 'Hello')\n",
      "(1, 2, 4, 3, 'Hello', 1, 2, 4, 3, 'Hello')\n",
      "(1, 2, 4, 3, 'Hello', 1, 2, 4, 3, 'Hello', 1, 2, 4, 3, 'Hello')\n"
     ]
    }
   ],
   "source": [
    "# tuples are immutable\n",
    "t = (1, 2, 4, 3, \"Hello\")\n",
    "print(t)\n",
    "\n",
    "l = list(t)\n",
    "print(l)\n",
    "\n",
    "t2 = tuple(l)\n",
    "print(t2)\n",
    "\n",
    "print(t2 + t)\n",
    "\n",
    "t2 = t2*3\n",
    "print(t2)"
   ]
  },
  {
   "cell_type": "markdown",
   "metadata": {},
   "source": [
    "## Dictionaries"
   ]
  },
  {
   "cell_type": "code",
   "execution_count": 98,
   "metadata": {},
   "outputs": [
    {
     "name": "stdout",
     "output_type": "stream",
     "text": [
      "{'Mango': 100, 'Apple': 40}\n",
      "100\n",
      "{'Mango': 100, 'Apple': 40, 'Pineapple': 70}\n",
      "{'Mango': 100, 'Apple': 40, 'Pineapple': 70, 'Grape': {'Small': 30, 'Large': 80}}\n",
      "30\n",
      "dict_values([100, 40, 70, {'Small': 30, 'Large': 80}])\n",
      "dict_values([30, 80])\n",
      "None\n",
      "<class 'NoneType'>\n"
     ]
    }
   ],
   "source": [
    "d = {\"Mango\":100, \"Apple\":40}\n",
    "\n",
    "print(d)\n",
    "print(d[\"Mango\"])\n",
    "\n",
    "d[\"Pineapple\"] = 70\n",
    "print(d)\n",
    "\n",
    "d[\"Grape\"] = {\"Small\":30,\"Large\":80}\n",
    "print(d)\n",
    "\n",
    "print(d[\"Grape\"][\"Small\"])\n",
    "\n",
    "print(d.values())\n",
    "print(d[\"Grape\"].values())\n",
    "\n",
    "print(d.get(\"Mangoes\"))\n",
    "print(type(d.get(\"Mangoes\")))\n"
   ]
  },
  {
   "cell_type": "code",
   "execution_count": 96,
   "metadata": {},
   "outputs": [
    {
     "name": "stdout",
     "output_type": "stream",
     "text": [
      "Price of Mango is 100\n"
     ]
    }
   ],
   "source": [
    "if \"Mango\" in d:\n",
    "    print(\"Price of Mango is %d\"%(d[\"Mango\"]))\n",
    "else:\n",
    "    print(\"Doesn't exist\")"
   ]
  },
  {
   "cell_type": "code",
   "execution_count": 105,
   "metadata": {},
   "outputs": [
    {
     "name": "stdout",
     "output_type": "stream",
     "text": [
      "{'Mango': 100, 'Apple': 40, 'Pineapple': 70, 'Grape': {'Small': 30, 'Large': 80}}\n",
      "dict_items([('Mango', 100), ('Apple', 40), ('Pineapple', 70), ('Grape', {'Small': 30, 'Large': 80})])\n",
      "[('Mango', 100), ('Apple', 40), ('Pineapple', 70), ('Grape', {'Small': 30, 'Large': 80})]\n"
     ]
    }
   ],
   "source": [
    "print(d)\n",
    "print(d.items())\n",
    "      \n",
    "l = list(d.items())\n",
    "print(l)"
   ]
  },
  {
   "cell_type": "code",
   "execution_count": 111,
   "metadata": {},
   "outputs": [
    {
     "name": "stdout",
     "output_type": "stream",
     "text": [
      "{'Mango': 100, 'Apple': 40, 'Pineapple': 70, 'Grape': {'Small': 30, 'Large': 80}, 'Strawberry': 150}\n",
      "5\n",
      "0\n"
     ]
    }
   ],
   "source": [
    "d2 = {\"Strawberry\":150}\n",
    "d.update(d2)\n",
    "\n",
    "print(d)\n",
    "\n",
    "print(len(d))\n",
    "\n",
    "d.clear()\n",
    "print(len(d))"
   ]
  },
  {
   "cell_type": "code",
   "execution_count": 135,
   "metadata": {},
   "outputs": [
    {
     "name": "stdout",
     "output_type": "stream",
     "text": [
      "<zip object at 0x0000013D071204C8>\n",
      "<class 'zip'>\n",
      "{'Apple': 10, 'Banana': 20, 'Papaya': 50, 'Grape': 35}\n",
      "<class 'dict'>\n"
     ]
    }
   ],
   "source": [
    "l1 = [\"Apple\", \"Banana\", \"Papaya\",\"Grape\"]\n",
    "l2 = [10,20,50,35]\n",
    "\n",
    "p1 = zip(l1,l2)\n",
    "p2 = dict(zip(l1,l2))\n",
    "\n",
    "print(p1)\n",
    "print(type(p1))\n",
    "\n",
    "print(p2)\n",
    "print(type(p2))"
   ]
  },
  {
   "cell_type": "code",
   "execution_count": 136,
   "metadata": {},
   "outputs": [
    {
     "name": "stdout",
     "output_type": "stream",
     "text": [
      "('Apple', 10)\n",
      "('Banana', 20)\n",
      "('Papaya', 50)\n",
      "('Grape', 35)\n"
     ]
    }
   ],
   "source": [
    "for k in p1:\n",
    "    print(k)"
   ]
  },
  {
   "cell_type": "code",
   "execution_count": 137,
   "metadata": {},
   "outputs": [
    {
     "name": "stdout",
     "output_type": "stream",
     "text": [
      "Apple\n",
      "Banana\n",
      "Papaya\n",
      "Grape\n"
     ]
    }
   ],
   "source": [
    "for k in p2:\n",
    "    print(k)"
   ]
  },
  {
   "cell_type": "markdown",
   "metadata": {},
   "source": [
    "## Sets"
   ]
  },
  {
   "cell_type": "code",
   "execution_count": 143,
   "metadata": {},
   "outputs": [
    {
     "name": "stdout",
     "output_type": "stream",
     "text": [
      "{1, 3, 4, 5, 45, 87}\n"
     ]
    }
   ],
   "source": [
    "# Sets are ordered and unique elements\n",
    "# unordered and unindexed\n",
    "\n",
    "s = set([1, 4, 3, 5, 1, 87, 45])\n",
    "print(s)"
   ]
  },
  {
   "cell_type": "code",
   "execution_count": 147,
   "metadata": {},
   "outputs": [
    {
     "name": "stdout",
     "output_type": "stream",
     "text": [
      "{2, 3, 4, 5, 45}\n",
      "{2, 3, 4, 5, 100, 45}\n"
     ]
    }
   ],
   "source": [
    "s2 = {3, 45, 5, 2, 4, 4}\n",
    "print(s2)\n",
    "s2.add(100)\n",
    "print(s2)"
   ]
  },
  {
   "cell_type": "code",
   "execution_count": 150,
   "metadata": {},
   "outputs": [
    {
     "name": "stdout",
     "output_type": "stream",
     "text": [
      "{1, 2, 3, 4, 5, 100, 45, 87}\n",
      "{1, 2, 3, 4, 5, 100, 45, 87}\n"
     ]
    }
   ],
   "source": [
    "print(s.union(s2))\n",
    "print(s|s2)"
   ]
  },
  {
   "cell_type": "code",
   "execution_count": 151,
   "metadata": {},
   "outputs": [
    {
     "name": "stdout",
     "output_type": "stream",
     "text": [
      "{45, 3, 4, 5}\n",
      "{45, 3, 4, 5}\n"
     ]
    }
   ],
   "source": [
    "print(s.intersection(s2))\n",
    "print(s&s2)"
   ]
  },
  {
   "cell_type": "code",
   "execution_count": 153,
   "metadata": {},
   "outputs": [
    {
     "name": "stdout",
     "output_type": "stream",
     "text": [
      "{1, 87}\n",
      "{1, 87}\n"
     ]
    }
   ],
   "source": [
    "print(s.difference(s2))\n",
    "print(s-s2)"
   ]
  },
  {
   "cell_type": "code",
   "execution_count": 154,
   "metadata": {},
   "outputs": [
    {
     "name": "stdout",
     "output_type": "stream",
     "text": [
      "{1, 2, 100, 87}\n"
     ]
    }
   ],
   "source": [
    "print(s^s2)         # prints elements which arer not common in both sets"
   ]
  },
  {
   "cell_type": "markdown",
   "metadata": {},
   "source": [
    "# OOPS in Python"
   ]
  },
  {
   "cell_type": "code",
   "execution_count": 155,
   "metadata": {},
   "outputs": [
    {
     "name": "stdout",
     "output_type": "stream",
     "text": [
      "<class '__main__.person'>\n"
     ]
    }
   ],
   "source": [
    "class person:\n",
    "    pass\n",
    "\n",
    "p = person()\n",
    "print(type(p))"
   ]
  },
  {
   "cell_type": "markdown",
   "metadata": {},
   "source": [
    "## functions in class"
   ]
  },
  {
   "cell_type": "code",
   "execution_count": 158,
   "metadata": {},
   "outputs": [
    {
     "name": "stdout",
     "output_type": "stream",
     "text": [
      "Hello\n",
      "Hello World\n"
     ]
    }
   ],
   "source": [
    "class person:\n",
    "    def sayHi(self):          # self is object through which it is called\n",
    "        print(\"Hello\")\n",
    "        \n",
    "    def Hello(self,name):\n",
    "        print(\"Hello\", name)\n",
    "        \n",
    "p = person()\n",
    "p.sayHi()\n",
    "p.Hello(\"World\")"
   ]
  },
  {
   "cell_type": "code",
   "execution_count": 168,
   "metadata": {},
   "outputs": [
    {
     "name": "stdout",
     "output_type": "stream",
     "text": [
      "My name is Nakul and I am from AIACTR\n",
      "I am Indian\n",
      "My name is Rahul and I am from NSIT\n",
      "I am Indian\n"
     ]
    }
   ],
   "source": [
    "class person:\n",
    "    \n",
    "    # This variable is common for all objects\n",
    "    nationality = \"Indian\"\n",
    "    \n",
    "    def __init__(self,pname, clg):   # This function initializes the variables of class\n",
    "        \n",
    "        # These variables are different for every object\n",
    "        self.name = pname\n",
    "        self.college = clg\n",
    "        \n",
    "    def intro(self):\n",
    "        print(\"My name is %s and I am from %s\"%(self.name,self.college))\n",
    "        print(\"I am %s\"%(self.nationality))\n",
    "        \n",
    "p = person(\"Nakul\",\"AIACTR\")\n",
    "p.intro()\n",
    "\n",
    "p = person(\"Rahul\",\"NSIT\")\n",
    "p.intro()"
   ]
  },
  {
   "cell_type": "code",
   "execution_count": 5,
   "metadata": {},
   "outputs": [
    {
     "name": "stdout",
     "output_type": "stream",
     "text": [
      "Germen Sephered\n",
      "['High Jump', 'Roll Over']\n",
      "Doing secret activity Germen Sephered\n",
      "Golden Retriever\n",
      "['Low Jump', 'Roll upside down']\n",
      "Doing secret activity Golden Retriever\n",
      "Doing public activity Germen Sephered\n",
      "Doing public activity Golden Retriever\n"
     ]
    }
   ],
   "source": [
    "class Dog:\n",
    "    \n",
    "    color = \"Brown\"\n",
    "    \n",
    "    def __init__(self, breed):\n",
    "    \n",
    "        self.activities = []\n",
    "        self.breed = breed\n",
    "        \n",
    "    def addActivity(self, act):\n",
    "        self.activities.append(act)\n",
    "        \n",
    "    def doActivity(self):\n",
    "        print(self.breed)\n",
    "        print(self.activities)\n",
    "        self.__secretActivity()     # We cannot directly call from main hence we are calling it from publc function of class\n",
    "        \n",
    "    def publicActivity(self):\n",
    "        print(\"Doing public activity\",self.breed)\n",
    "        \n",
    "    def __secretActivity(self):          # Appling 2 underscores make it private    \n",
    "        print(\"Doing secret activity\",self.breed)\n",
    "        \n",
    "d1 = Dog(\"Germen Sephered\")\n",
    "d2 = Dog(\"Golden Retriever\")\n",
    "\n",
    "d1.addActivity(\"High Jump\")\n",
    "d1.addActivity(\"Roll Over\")\n",
    "\n",
    "d2.addActivity(\"Low Jump\")\n",
    "d2.addActivity(\"Roll upside down\")\n",
    "\n",
    "d1.doActivity()\n",
    "d2.doActivity()\n",
    "\n",
    "d1.publicActivity()\n",
    "d2.publicActivity()\n",
    "\n",
    "Dog?"
   ]
  },
  {
   "cell_type": "markdown",
   "metadata": {},
   "source": [
    "## Inheritance"
   ]
  },
  {
   "cell_type": "code",
   "execution_count": 8,
   "metadata": {},
   "outputs": [
    {
     "name": "stdout",
     "output_type": "stream",
     "text": [
      "Init School member : Mr. Alpha\n",
      "Init Teacher : Mr. Alpha\n",
      "Name : Mr. Alpha 30\n",
      "Salary : 45000\n",
      "Init School member : Rahul\n",
      "Init Student : Rahul\n",
      "Name : Rahul 20\n",
      "Marks : 70\n"
     ]
    }
   ],
   "source": [
    "class SchoolMember:\n",
    "    \n",
    "    def __init__(self, name, age):\n",
    "        self.name = name\n",
    "        self.age = age\n",
    "        \n",
    "        print(\"Init School member : %s\"%self.name)\n",
    "        \n",
    "    def introduce(self):\n",
    "        print(\"Name : %s %d\"%(self.name, self.age))\n",
    "    \n",
    "    \n",
    "class Teacher:\n",
    "    \n",
    "    def __init__(self, name, age, salary):\n",
    "        SchoolMember.__init__(self, name, age)\n",
    "        self.salary = salary\n",
    "            \n",
    "        print(\"Init Teacher : %s\"%self.name)\n",
    "            \n",
    "    def introduce(self):\n",
    "        SchoolMember.introduce(self)\n",
    "        \n",
    "        print(\"Salary : %d\"%self.salary)\n",
    "        \n",
    "        \n",
    "class Student:\n",
    "    def __init__(self, name, age, marks):\n",
    "        SchoolMember.__init__(self, name, age)\n",
    "        self.marks = marks\n",
    "        \n",
    "        print(\"Init Student : %s\"%self.name)\n",
    "        \n",
    "    def introduce(self):\n",
    "        SchoolMember.introduce(self)\n",
    "        \n",
    "        print(\"Marks : %d\"%self.marks)\n",
    "            \n",
    "t = Teacher(\"Mr. Alpha\", 30, 45000)\n",
    "t.introduce()\n",
    "            \n",
    "s = Student(\"Rahul\", 20, 70)  \n",
    "s.introduce()"
   ]
  },
  {
   "cell_type": "code",
   "execution_count": 11,
   "metadata": {},
   "outputs": [
    {
     "name": "stdout",
     "output_type": "stream",
     "text": [
      "fdgbdr['l', 46]\n",
      "<class 'list'>\n"
     ]
    }
   ],
   "source": [
    "l=[]\n",
    "l.append('l')\n",
    "l.append(46)\n",
    "l\n",
    "print (\"fdgbdr%s\"%l)\n",
    "print(type(l))"
   ]
  },
  {
   "cell_type": "code",
   "execution_count": 8,
   "metadata": {},
   "outputs": [
    {
     "name": "stdout",
     "output_type": "stream",
     "text": [
      "(1, 5)\n",
      "(2, 5)\n",
      "(5, 1)\n"
     ]
    }
   ],
   "source": [
    "import numpy as np\n",
    "\n",
    "n = np.array([[2,4,5,4,5]])\n",
    "print(n.shape)\n",
    "n1 = np.array([[2,4,5,4,5],[2,5,3,7,3]])\n",
    "print(n1.shape)\n",
    "n2 = np.array([[2],[4],[5],[4],[5]])\n",
    "print(n2.shape)\n"
   ]
  },
  {
   "cell_type": "code",
   "execution_count": null,
   "metadata": {},
   "outputs": [],
   "source": []
  },
  {
   "cell_type": "code",
   "execution_count": null,
   "metadata": {},
   "outputs": [],
   "source": []
  }
 ],
 "metadata": {
  "kernelspec": {
   "display_name": "Python 3",
   "language": "python",
   "name": "python3"
  },
  "language_info": {
   "codemirror_mode": {
    "name": "ipython",
    "version": 3
   },
   "file_extension": ".py",
   "mimetype": "text/x-python",
   "name": "python",
   "nbconvert_exporter": "python",
   "pygments_lexer": "ipython3",
   "version": "3.6.4"
  }
 },
 "nbformat": 4,
 "nbformat_minor": 2
}
